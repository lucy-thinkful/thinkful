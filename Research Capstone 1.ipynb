{
 "cells": [
  {
   "cell_type": "markdown",
   "metadata": {},
   "source": [
    "# International Soccer Matches "
   ]
  },
  {
   "cell_type": "markdown",
   "metadata": {},
   "source": [
    "The dataset that I have chosen to study is a collection of the information of all of the international soccer matches played from the fist match between England and Scotland in 1872 until 30 September 2019.  The dataset was acquired from kaggle.com under the name \"International football results from 1872 to 2019.\"  This dataset is updated as new matches occur so the scope of this research capstone is restricted to matches that occurred on or before 30 September 2019.\n",
    "\n",
    "The dataset is provided in a .csv file format with column labels of \"date,\" \"home_team,\" \"away_team,\" \"home_score,\" \"away_score,\" \"tournament,\" \"city,\" \"country,\" and \"neutral.\"  The \"date\" column is a string representation of the date on which the match occurred using a \"YYYY-MM-DD\" format.  The \"home_team\" and \"away_team\" columns contain strings with the names of the countries participating as the home and away teams, respectively.  From the background information given for this dataset, it is important to point out that the current name of a team is used to identify throughout history even though the team may have been known by a different name at a different point in time.  The example cited in the background information is that \"Ireland\" of 1882 is known as \"Northern Ireland\" in this dataset because Northern Ireland is the descendant team of the Ireland team that played in 1882.  The \"home_score\" and \"away_score\" columns provide the final score for the home team and away team, respectively.  The \"tournament\" gives the competition in which the match occurred.  For the purpose of the dataset, \"Friendly\" is an entry in this column to allow for friendly matches to be classified along with the matches occurring during tournaments.  The \"city\" and \"country\" columns provide information regarding the city and country in which the match occurred.  In contrast to the names of the teams, the country listed in the \"country\" column is the name of the country at the time of the match.  The \"neutral\" column contains boolean values that indicate whether the home team was playing in its home country.\n",
    "\n",
    "This dataset is interesting to me because sports are a unifying element of society, and soccer is the world's most popular sport.  Soccer matches can often transcend political conflicts or strain because the general citzenry can often be accused of caring more about the outcomes of sporting events than the business of their governments.  That is simply an indication of the passion poured into sports--and soccer in particular due to its worldwide appeal.  Additionally, a lot of money is wagered on the outcomes of sporting events so insight into how certain variables impact the results of matches historically could be interesting and the subject of further research.\n",
    "\n",
    "In order to use this dataset to perform analysis, it is loaded into this Jupyter Notebook as a DataFrame after the necessary modules have been imported."
   ]
  },
  {
   "cell_type": "markdown",
   "metadata": {},
   "source": [
    "## Load Data\n",
    "\n",
    "In order to use this dataset to perform analysis, it is loaded into this Jupyter Notebook as a DataFrame after the necessary modules have been imported."
   ]
  },
  {
   "cell_type": "code",
   "execution_count": 27,
   "metadata": {},
   "outputs": [],
   "source": [
    "#standard module imports\n",
    "import numpy as np\n",
    "import pandas as pd\n",
    "import matplotlib.pyplot as plt\n",
    "\n",
    "#command included for plot display\n",
    "%matplotlib inline\n",
    "\n",
    "#module imported for \"floor\" and \"ceil\" functions\n",
    "import math\n",
    "\n",
    "#dataset loaded into DataFrame\n",
    "df = pd.read_csv(filepath_or_buffer='Soccer Results.csv')"
   ]
  },
  {
   "cell_type": "markdown",
   "metadata": {},
   "source": [
    "## Preliminary Basic Inspection\n",
    "\n",
    "In order to observe the dataset after it has been loaded into this Jupyter Notebook, basic DataFrame methods (.head(), .info(), .describe()) are applied to the DataFrame to provide information about the dataset."
   ]
  },
  {
   "cell_type": "code",
   "execution_count": 28,
   "metadata": {},
   "outputs": [
    {
     "data": {
      "text/html": [
       "<div>\n",
       "<style scoped>\n",
       "    .dataframe tbody tr th:only-of-type {\n",
       "        vertical-align: middle;\n",
       "    }\n",
       "\n",
       "    .dataframe tbody tr th {\n",
       "        vertical-align: top;\n",
       "    }\n",
       "\n",
       "    .dataframe thead th {\n",
       "        text-align: right;\n",
       "    }\n",
       "</style>\n",
       "<table border=\"1\" class=\"dataframe\">\n",
       "  <thead>\n",
       "    <tr style=\"text-align: right;\">\n",
       "      <th></th>\n",
       "      <th>date</th>\n",
       "      <th>home_team</th>\n",
       "      <th>away_team</th>\n",
       "      <th>home_score</th>\n",
       "      <th>away_score</th>\n",
       "      <th>tournament</th>\n",
       "      <th>city</th>\n",
       "      <th>country</th>\n",
       "      <th>neutral</th>\n",
       "    </tr>\n",
       "  </thead>\n",
       "  <tbody>\n",
       "    <tr>\n",
       "      <th>0</th>\n",
       "      <td>1872-11-30</td>\n",
       "      <td>Scotland</td>\n",
       "      <td>England</td>\n",
       "      <td>0</td>\n",
       "      <td>0</td>\n",
       "      <td>Friendly</td>\n",
       "      <td>Glasgow</td>\n",
       "      <td>Scotland</td>\n",
       "      <td>False</td>\n",
       "    </tr>\n",
       "    <tr>\n",
       "      <th>1</th>\n",
       "      <td>1873-03-08</td>\n",
       "      <td>England</td>\n",
       "      <td>Scotland</td>\n",
       "      <td>4</td>\n",
       "      <td>2</td>\n",
       "      <td>Friendly</td>\n",
       "      <td>London</td>\n",
       "      <td>England</td>\n",
       "      <td>False</td>\n",
       "    </tr>\n",
       "  </tbody>\n",
       "</table>\n",
       "</div>"
      ],
      "text/plain": [
       "         date home_team away_team  home_score  away_score tournament     city  \\\n",
       "0  1872-11-30  Scotland   England           0           0   Friendly  Glasgow   \n",
       "1  1873-03-08   England  Scotland           4           2   Friendly   London   \n",
       "\n",
       "    country  neutral  \n",
       "0  Scotland    False  \n",
       "1   England    False  "
      ]
     },
     "execution_count": 28,
     "metadata": {},
     "output_type": "execute_result"
    }
   ],
   "source": [
    "df.head(2)"
   ]
  },
  {
   "cell_type": "markdown",
   "metadata": {},
   "source": [
    "Applying the .head() method with an input parameter of 2 allows visualization of the top two entries in the DataFrame.  It is observed that the column names from the .csv file have been converted to column names in the DataFrame.  The rows from the .csv file have been added as entries into the DataFrame with automatically generated index numbers."
   ]
  },
  {
   "cell_type": "code",
   "execution_count": 29,
   "metadata": {},
   "outputs": [
    {
     "name": "stdout",
     "output_type": "stream",
     "text": [
      "<class 'pandas.core.frame.DataFrame'>\n",
      "RangeIndex: 40945 entries, 0 to 40944\n",
      "Data columns (total 9 columns):\n",
      "date          40945 non-null object\n",
      "home_team     40945 non-null object\n",
      "away_team     40945 non-null object\n",
      "home_score    40945 non-null int64\n",
      "away_score    40945 non-null int64\n",
      "tournament    40945 non-null object\n",
      "city          40945 non-null object\n",
      "country       40945 non-null object\n",
      "neutral       40945 non-null bool\n",
      "dtypes: bool(1), int64(2), object(6)\n",
      "memory usage: 2.5+ MB\n"
     ]
    }
   ],
   "source": [
    "df.info()"
   ]
  },
  {
   "cell_type": "markdown",
   "metadata": {},
   "source": [
    "Appyling the .info() method shows that 40,945 matches exist in the dataset under consideration.  Furthermore, each column has the same number of non-null objects so every match is fully characterized under the attributes given by the column labels."
   ]
  },
  {
   "cell_type": "code",
   "execution_count": 30,
   "metadata": {},
   "outputs": [
    {
     "data": {
      "text/html": [
       "<div>\n",
       "<style scoped>\n",
       "    .dataframe tbody tr th:only-of-type {\n",
       "        vertical-align: middle;\n",
       "    }\n",
       "\n",
       "    .dataframe tbody tr th {\n",
       "        vertical-align: top;\n",
       "    }\n",
       "\n",
       "    .dataframe thead th {\n",
       "        text-align: right;\n",
       "    }\n",
       "</style>\n",
       "<table border=\"1\" class=\"dataframe\">\n",
       "  <thead>\n",
       "    <tr style=\"text-align: right;\">\n",
       "      <th></th>\n",
       "      <th>home_score</th>\n",
       "      <th>away_score</th>\n",
       "    </tr>\n",
       "  </thead>\n",
       "  <tbody>\n",
       "    <tr>\n",
       "      <th>count</th>\n",
       "      <td>40945.000000</td>\n",
       "      <td>40945.000000</td>\n",
       "    </tr>\n",
       "    <tr>\n",
       "      <th>mean</th>\n",
       "      <td>1.745463</td>\n",
       "      <td>1.188521</td>\n",
       "    </tr>\n",
       "    <tr>\n",
       "      <th>std</th>\n",
       "      <td>1.748619</td>\n",
       "      <td>1.405116</td>\n",
       "    </tr>\n",
       "    <tr>\n",
       "      <th>min</th>\n",
       "      <td>0.000000</td>\n",
       "      <td>0.000000</td>\n",
       "    </tr>\n",
       "    <tr>\n",
       "      <th>25%</th>\n",
       "      <td>1.000000</td>\n",
       "      <td>0.000000</td>\n",
       "    </tr>\n",
       "    <tr>\n",
       "      <th>50%</th>\n",
       "      <td>1.000000</td>\n",
       "      <td>1.000000</td>\n",
       "    </tr>\n",
       "    <tr>\n",
       "      <th>75%</th>\n",
       "      <td>2.000000</td>\n",
       "      <td>2.000000</td>\n",
       "    </tr>\n",
       "    <tr>\n",
       "      <th>max</th>\n",
       "      <td>31.000000</td>\n",
       "      <td>21.000000</td>\n",
       "    </tr>\n",
       "  </tbody>\n",
       "</table>\n",
       "</div>"
      ],
      "text/plain": [
       "         home_score    away_score\n",
       "count  40945.000000  40945.000000\n",
       "mean       1.745463      1.188521\n",
       "std        1.748619      1.405116\n",
       "min        0.000000      0.000000\n",
       "25%        1.000000      0.000000\n",
       "50%        1.000000      1.000000\n",
       "75%        2.000000      2.000000\n",
       "max       31.000000     21.000000"
      ]
     },
     "execution_count": 30,
     "metadata": {},
     "output_type": "execute_result"
    }
   ],
   "source": [
    "df.describe()"
   ]
  },
  {
   "cell_type": "markdown",
   "metadata": {},
   "source": [
    "The numeric fields of the DataFrame are analyzed through the use of summary statistics by the .describe() method.  The scores of the matches are the only numeric fields so they are the only ones returned with summary statistics.  A notable result of the summary statistics is that the home scores more than half of a goal more than the away team on average.  However, the away team appears to produce more consistent performances than the home team, as indicated by a lower standard deviation."
   ]
  },
  {
   "cell_type": "markdown",
   "metadata": {},
   "source": [
    "## Pose Questions\n",
    "\n",
    "The following questions are to be answered by this analysis:\n",
    "\n",
    "    1)  How do teams playing in their home country fare?\n",
    "    2)  Does the competition in which the match is played impact the goals scored or margin of victory in a match?\n",
    "    3)  Which teams are the most successful?\n",
    "    4)  How many teams have participated in an international soccer match and how many participate on a yearly basis?\n",
    "    5)  Has the amount of goals scored in a typical match changed throughout time?"
   ]
  },
  {
   "cell_type": "markdown",
   "metadata": {},
   "source": [
    "## Enhance Base DataFrame\n",
    "\n",
    "To facilitate answering the questions listed above, the data provided in the dataset is insufficient or unwieldy.  For example, it would be useful to directly know which team wom rather than comparing the home score to the away score and then looking up the respective teams.  Therefore, columns for \"total_goals,\" \"margin_of_victory,\" \"winner,\" \"loser,\" and \"year_of_match\" are added to a copy of the original DataFrame below."
   ]
  },
  {
   "cell_type": "code",
   "execution_count": 31,
   "metadata": {},
   "outputs": [],
   "source": [
    "#make copy of original dataframe that will be modified with new columns\n",
    "df2 = df.copy()\n",
    "\n",
    "#total goals scored in each match calculated\n",
    "df2['total_goals'] = df2['home_score'].values + df['away_score'].values\n",
    "#margin of victory in each match calculated\n",
    "df2['margin_of_victory'] = np.absolute(df2['home_score'].values - df['away_score'].values)\n",
    "\n",
    "#initialize winner_by_match array; use df2['away_team'] because shape is the same\n",
    "winner_by_match = df2['away_team'].values.copy()\n",
    "#initialize loser_by_match array; use winner_by_match because shape is the same\n",
    "loser_by_match = winner_by_match.copy()\n",
    "#initialize year_of_match array; use np.zeros because array needs to store integers rather than strings\n",
    "year_of_match = np.zeros(df2.shape[0])\n",
    "\n",
    "#iterating through dataframe because conditional assignments need to be performed on the basis of logical comparisons\n",
    "#for each match\n",
    "for index, row in df2.iterrows():\n",
    "    #logical comparison for when home team wins\n",
    "    if (row['home_score'] > row['away_score']):\n",
    "        winner_by_match[index] = row['home_team']\n",
    "        loser_by_match[index] = row['away_team']\n",
    "    #logical comparison for when away team wins\n",
    "    elif (row['home_score'] < row['away_score']):\n",
    "        winner_by_match[index] = row['away_team']\n",
    "        loser_by_match[index] = row['home_team']\n",
    "    #logical comparison for a draw--only remaining result after two previous conditions\n",
    "    else:\n",
    "        winner_by_match[index] = 'None'\n",
    "        loser_by_match[index] = 'None'\n",
    "    #year extracted from date by slicing the first four characters of string and casting to int\n",
    "    year_of_match[index] = int(row['date'][:4])\n",
    "\n",
    "#add arrays to dataframe as new columns\n",
    "df2['winner'] = winner_by_match\n",
    "df2['loser'] = loser_by_match\n",
    "df2['year_of_match'] = year_of_match"
   ]
  },
  {
   "cell_type": "markdown",
   "metadata": {},
   "source": [
    "## Question 1\n",
    "\n",
    "In order to answer the first question regarding how teams fare when playing in their home countries, the number of wins, losses, and draws for the home team playing in its home country are determined.  Rather than the gross numbers of wins, losses, and draws, the percentages of each result type are presented, which are easier to interpret.  A pie chart is used to provide visualization of the frequency of result types with respect to each other."
   ]
  },
  {
   "cell_type": "code",
   "execution_count": 32,
   "metadata": {},
   "outputs": [
    {
     "data": {
      "image/png": "[encoded data removed]",
      "text/plain": [
       "<Figure size 432x288 with 1 Axes>"
      ]
     },
     "metadata": {},
     "output_type": "display_data"
    }
   ],
   "source": [
    "#filter base dataframe to create dataframe that only contains matched NOT played at a neutral site\n",
    "#definition also avoids repeated filtering of base dataframe in home_wins, home_losses, and home_draws\n",
    "non_neutral = df2.loc[~df2['neutral']]\n",
    "#determine number of wins, losses, and draws by home teams\n",
    "home_wins = non_neutral.loc[non_neutral['home_score'] > non_neutral['away_score']].shape[0]\n",
    "home_losses = non_neutral.loc[non_neutral['home_score'] < non_neutral['away_score']].shape[0]\n",
    "home_draws = non_neutral.loc[non_neutral['home_score'] == non_neutral['away_score']].shape[0]\n",
    "#sum wins, losses, and draws by home team for total games\n",
    "home_total_games = home_wins + home_losses + home_draws\n",
    "#calculate percentages of each result type\n",
    "home_win_percent = home_wins/home_total_games*100\n",
    "home_loss_percent = home_losses/home_total_games*100\n",
    "home_draw_percent = home_draws/home_total_games*100\n",
    "\n",
    "#create pie chart showing win, loss, and draw percentages for home team\n",
    "plt.pie(x=[home_win_percent, home_loss_percent, home_draw_percent], labels=['Win', 'Lose', 'Draw'], autopct='%.1f%%')\n",
    "plt.title('Home Team Results')\n",
    "plt.show()"
   ]
  },
  {
   "cell_type": "markdown",
   "metadata": {},
   "source": [
    "Inspection of the pie charts shows that there is a significant advantage to being the home team in an international soccer match.  The home team is almost as likely to win as they are to draw or lose combined.  A potential question for further research would be to look at the success of teams in tournaments that they hosted versus tournaments that they did not host to see the difference between their results.  Additionally, the impact of a team being able to win bids to host tournaments on their overall team success could be studied."
   ]
  },
  {
   "cell_type": "markdown",
   "metadata": {},
   "source": [
    "## Question 2\n",
    "\n",
    "Determining the impact of the tournament/competition in which a match was played on the number of goals scored in the match or the margin of victory could lead to quite a lengthy analysis.  The number of tournaments/competitions in which a match has been played is determined."
   ]
  },
  {
   "cell_type": "code",
   "execution_count": 33,
   "metadata": {},
   "outputs": [
    {
     "name": "stdout",
     "output_type": "stream",
     "text": [
      "The number of tournaments/competitions in which a match has been played is 109.\n"
     ]
    }
   ],
   "source": [
    "#generate list of all tournaments in which a match has been played\n",
    "tournaments = df2['tournament'].unique()\n",
    "#print the number of tournaments in which a match has been played\n",
    "print('The number of tournaments/competitions in which a match has been played is ' + str(tournaments.shape[0]) + '.')"
   ]
  },
  {
   "cell_type": "markdown",
   "metadata": {},
   "source": [
    "In order to pare down the number of tournaments that are inspected to determine the impact of the tournament on the amount of goals scored and margin of victory in a match, the number of matches played in each tournament are determined."
   ]
  },
  {
   "cell_type": "code",
   "execution_count": 34,
   "metadata": {},
   "outputs": [],
   "source": [
    "#initialize games_played_by_tournament based on shape of tournaments series\n",
    "games_played_by_tournament = np.zeros(tournaments.shape[0])\n",
    "\n",
    "#loop through tournaments to count the number of matches played in each tournament\n",
    "for index, tournament in enumerate(tournaments):\n",
    "    #assign number of matches in tournament to its matching index in games_played_by_tournament\n",
    "    games_played_by_tournament[index] = df2.loc[df2['tournament'] == tournament].shape[0]\n",
    "    \n",
    "#create dataframe from the series of tournaments and the array containing the number of matches played in each tournament\n",
    "df_tournaments = pd.DataFrame({'tournament': tournaments, 'games_played': games_played_by_tournament})"
   ]
  },
  {
   "cell_type": "markdown",
   "metadata": {},
   "source": [
    "After a DataFrame has been created that shows the number of matches played in each tournament, the tournaments with the top 10 most matches are presented."
   ]
  },
  {
   "cell_type": "code",
   "execution_count": 35,
   "metadata": {},
   "outputs": [
    {
     "data": {
      "text/html": [
       "<div>\n",
       "<style scoped>\n",
       "    .dataframe tbody tr th:only-of-type {\n",
       "        vertical-align: middle;\n",
       "    }\n",
       "\n",
       "    .dataframe tbody tr th {\n",
       "        vertical-align: top;\n",
       "    }\n",
       "\n",
       "    .dataframe thead th {\n",
       "        text-align: right;\n",
       "    }\n",
       "</style>\n",
       "<table border=\"1\" class=\"dataframe\">\n",
       "  <thead>\n",
       "    <tr style=\"text-align: right;\">\n",
       "      <th></th>\n",
       "      <th>tournament</th>\n",
       "      <th>games_played</th>\n",
       "    </tr>\n",
       "  </thead>\n",
       "  <tbody>\n",
       "    <tr>\n",
       "      <th>0</th>\n",
       "      <td>Friendly</td>\n",
       "      <td>16967.0</td>\n",
       "    </tr>\n",
       "    <tr>\n",
       "      <th>15</th>\n",
       "      <td>FIFA World Cup qualification</td>\n",
       "      <td>7100.0</td>\n",
       "    </tr>\n",
       "    <tr>\n",
       "      <th>28</th>\n",
       "      <td>UEFA Euro qualification</td>\n",
       "      <td>2482.0</td>\n",
       "    </tr>\n",
       "    <tr>\n",
       "      <th>31</th>\n",
       "      <td>African Cup of Nations qualification</td>\n",
       "      <td>1616.0</td>\n",
       "    </tr>\n",
       "    <tr>\n",
       "      <th>13</th>\n",
       "      <td>FIFA World Cup</td>\n",
       "      <td>900.0</td>\n",
       "    </tr>\n",
       "    <tr>\n",
       "      <th>7</th>\n",
       "      <td>Copa América</td>\n",
       "      <td>813.0</td>\n",
       "    </tr>\n",
       "    <tr>\n",
       "      <th>22</th>\n",
       "      <td>AFC Asian Cup qualification</td>\n",
       "      <td>724.0</td>\n",
       "    </tr>\n",
       "    <tr>\n",
       "      <th>25</th>\n",
       "      <td>African Cup of Nations</td>\n",
       "      <td>690.0</td>\n",
       "    </tr>\n",
       "    <tr>\n",
       "      <th>48</th>\n",
       "      <td>CECAFA Cup</td>\n",
       "      <td>620.0</td>\n",
       "    </tr>\n",
       "    <tr>\n",
       "      <th>51</th>\n",
       "      <td>CFU Caribbean Cup qualification</td>\n",
       "      <td>606.0</td>\n",
       "    </tr>\n",
       "  </tbody>\n",
       "</table>\n",
       "</div>"
      ],
      "text/plain": [
       "                              tournament  games_played\n",
       "0                               Friendly       16967.0\n",
       "15          FIFA World Cup qualification        7100.0\n",
       "28               UEFA Euro qualification        2482.0\n",
       "31  African Cup of Nations qualification        1616.0\n",
       "13                        FIFA World Cup         900.0\n",
       "7                           Copa América         813.0\n",
       "22           AFC Asian Cup qualification         724.0\n",
       "25                African Cup of Nations         690.0\n",
       "48                            CECAFA Cup         620.0\n",
       "51       CFU Caribbean Cup qualification         606.0"
      ]
     },
     "execution_count": 35,
     "metadata": {},
     "output_type": "execute_result"
    }
   ],
   "source": [
    "#display tournaments with the top 10 most matches played\n",
    "df_tournaments.sort_values(by=['games_played'], ascending=False).head(10)"
   ]
  },
  {
   "cell_type": "markdown",
   "metadata": {},
   "source": [
    "Of the top 10 competitions by number of matches played, only three--Friendly, FIFA World Cup Qualification, and FIFA World Cup--are played by the entire world.  The others are region-specific.  Therefore, these three are chosen for analysis of the variation of mean goals scored per game and mean margin of victory.  Additionally, all matches are analyzed as a group to compare to compare to the analyses of the three competitions.  Summary statistics are performed for all matches, friendly matches, FIFA World Cup Qualifying matches, and FIFA World Cup matches."
   ]
  },
  {
   "cell_type": "code",
   "execution_count": 36,
   "metadata": {
    "scrolled": true
   },
   "outputs": [],
   "source": [
    "#summary statistics for each of the four cases\n",
    "describe = df2.describe()\n",
    "describe_friendly = df2.loc[df2['tournament'] == 'Friendly'].describe()\n",
    "describe_FIFA_WCQ = df2.loc[df2['tournament'] == 'FIFA World Cup qualification'].describe()\n",
    "describe_FIFA_WC = df2.loc[df2['tournament'] == 'FIFA World Cup'].describe()"
   ]
  },
  {
   "cell_type": "markdown",
   "metadata": {},
   "source": [
    "Bar charts are used to compare the mean number of goals scored per match and mean margin of victory by competition."
   ]
  },
  {
   "cell_type": "code",
   "execution_count": 37,
   "metadata": {},
   "outputs": [
    {
     "data": {
      "image/png": "[encoded data removed]",
      "text/plain": [
       "<Figure size 1080x360 with 2 Axes>"
      ]
     },
     "metadata": {
      "needs_background": "light"
     },
     "output_type": "display_data"
    }
   ],
   "source": [
    "#initialize array to supply to plt.bar height argument\n",
    "total_goals_means = np.zeros(4)\n",
    "#extract mean goals per match from summary statistics\n",
    "total_goals_means[0] = describe.loc['mean']['total_goals']\n",
    "total_goals_means[1] = describe_friendly.loc['mean']['total_goals']\n",
    "total_goals_means[2] = describe_FIFA_WCQ.loc['mean']['total_goals']\n",
    "total_goals_means[3] = describe_FIFA_WC.loc['mean']['total_goals']\n",
    "\n",
    "#initialize array to supply to plt.bar x argument\n",
    "margin_of_victory_means = np.zeros(4)\n",
    "#extract mean margin of victory from summary statistics\n",
    "margin_of_victory_means[0] = describe.loc['mean']['margin_of_victory']\n",
    "margin_of_victory_means[1] = describe_friendly.loc['mean']['margin_of_victory']\n",
    "margin_of_victory_means[2] = describe_FIFA_WCQ.loc['mean']['margin_of_victory']\n",
    "margin_of_victory_means[3] = describe_FIFA_WC.loc['mean']['margin_of_victory']\n",
    "\n",
    "#resize figure for better display\n",
    "plt.figure(figsize=(15, 5))\n",
    "\n",
    "#plot bar chart to compare mean goals per match across competitions\n",
    "plt.subplot(1, 2, 1)\n",
    "plt.bar(x=['All', 'Friendly', 'FIFA WCQ', 'FIFA WC'], height=total_goals_means, color=['red', 'blue', 'green', 'yellow'])\n",
    "plt.ylabel('Mean Goals Scored in Game')\n",
    "\n",
    "#plot bar chart to compare mean margin of victory across competitions\n",
    "plt.subplot(1, 2, 2)\n",
    "plt.bar(x=['All', 'Friendly', 'FIFA WCQ', 'FIFA WC'], height=margin_of_victory_means, color=['red', 'blue', 'green', 'yellow'])\n",
    "plt.ylabel('Mean Margin of Victory in Game')\n",
    "\n",
    "#improve display\n",
    "plt.tight_layout()\n",
    "#show plot\n",
    "plt.show()"
   ]
  },
  {
   "cell_type": "markdown",
   "metadata": {},
   "source": [
    "From the bar plot showing the mean goals scored per game for the four cases, it is observed that there is not a lot of variability in mean goals scored per game between the four cases.  Games in the FIFA World Cup have the lowest mean goals scored per game of the four cases.  This potentially suggests that defense is emphasized more during these matches, which makes sense given that the stakes of this competition are the greatest in international soccer and that each has game has a heightened importance due to the knockout nature of the competition.  Inspection of the bar plot showing the mean margin of victory for the four cases, FIFA World Cup Qualifying is observed to have the greatest margin of victory while the FIFA World Cup has the lowest margin of victory.  The mean margin of victory of all matches and friendlies--the two cases with the most matches--is between the mean margins of victory for FIFA World Cup Qualifying and the FIFA World Cup.  It makes sense that the FIFA World Cup has a lower margin of victory than the other cases because it is a tournament in which the best teams from each confederation within FIFA play.  Therefore, good teams are playing against other good teams with a reduced likelihood of blowouts.  The elevated mean margin of victory in FIFA World Cup Qualifying matches could be explained by the fact that these matches are contested within each confederation to determine which teams are the best in the confederation.  This means that the weaker teams in each confederation end up playing the better teams in each confederation.  Such matchups provide the opportunity for matches with high margins of victory that can elevate the mean margin of victory.\n",
    "\n",
    "In addition to comparing the means, histograms are generated for the goals scored per match and margin of victory for each case."
   ]
  },
  {
   "cell_type": "code",
   "execution_count": 38,
   "metadata": {},
   "outputs": [
    {
     "data": {
      "image/png": "[encoded data removed]",
      "text/plain": [
       "<Figure size 1080x360 with 4 Axes>"
      ]
     },
     "metadata": {
      "needs_background": "light"
     },
     "output_type": "display_data"
    }
   ],
   "source": [
    "#get goals scored in match for each case\n",
    "total_goals = df2['total_goals']\n",
    "total_goals_friendly = df2.loc[df2['tournament'] == 'Friendly']['total_goals']\n",
    "total_goals_FIFA_WCQ = df2.loc[df2['tournament'] == 'FIFA World Cup qualification']['total_goals']\n",
    "total_goals_FIFA_WC = df2.loc[df2['tournament'] == 'FIFA World Cup']['total_goals']\n",
    "\n",
    "#resize figure for better display\n",
    "plt.figure(figsize=(15, 5))\n",
    "\n",
    "#plot histogram for goals scored in all matches\n",
    "plt.subplot(1, 4, 1)\n",
    "plt.hist(x=total_goals, bins=((total_goals.max() - total_goals.min())), color='red', density=True)\n",
    "plt.xlabel('Goals Scored in Match')\n",
    "plt.ylabel('Probability of # of Goals Scored')\n",
    "plt.title('All Matches')\n",
    "plt.xlim([total_goals.min(), total_goals.max()])\n",
    "\n",
    "#plot histogram for goals scored in friendlies\n",
    "plt.subplot(1, 4, 2)\n",
    "plt.hist(x=total_goals_friendly, bins=((total_goals_friendly.max() - total_goals_friendly.min())),\n",
    "         color='blue', density=True)\n",
    "plt.xlabel('Goals Scored in Match')\n",
    "plt.ylabel('Probability of # of Goals Scored')\n",
    "plt.title('Friendlies')\n",
    "plt.xlim([total_goals_friendly.min(), total_goals_friendly.max()])\n",
    "\n",
    "#plot histogram for goals scored in FIFA World Cup Qualifying\n",
    "plt.subplot(1, 4, 3)\n",
    "plt.hist(x=total_goals_FIFA_WCQ, bins=((total_goals_FIFA_WCQ.max() - total_goals_FIFA_WCQ.min())),\n",
    "         color='green', density=True)\n",
    "plt.xlabel('Goals Scored in Match')\n",
    "plt.ylabel('Probability of # of Goals Scored')\n",
    "plt.title('World Cup Qualification')\n",
    "plt.xlim([total_goals_FIFA_WCQ.min(), total_goals_FIFA_WCQ.max()])\n",
    "\n",
    "#plot histogram for goals scored in FIFA World Cup\n",
    "plt.subplot(1, 4, 4)\n",
    "plt.hist(x=total_goals_FIFA_WC, bins=((total_goals_FIFA_WC.max() - total_goals_FIFA_WC.min())),\n",
    "         color='yellow', density=True)\n",
    "plt.xlabel('Goals Scored in Match')\n",
    "plt.ylabel('Probability of # of Goals Scored')\n",
    "plt.title('World Cup')\n",
    "plt.xlim([total_goals_FIFA_WC.min(), total_goals_FIFA_WC.max()])\n",
    "            \n",
    "#improve display\n",
    "plt.tight_layout()\n",
    "#show plot\n",
    "plt.show()"
   ]
  },
  {
   "cell_type": "markdown",
   "metadata": {},
   "source": [
    "The histograms show that the goals scored per game follows a Gaussian-type or binomial-type distribution in which the probability increases along the x-axis toward a maximum after which it decays with a longer tail to the right of the maximum.  Each of the cases is observed to have insignificant (<1%) occurrences of goals scored in a game beyond 10 goals scored.  In order to homogenize the visualizations across competitions, the limits of the x-axes are changed to be 0 and 10, and the limits of the y-axes are changed to be 0 and 0.25."
   ]
  },
  {
   "cell_type": "code",
   "execution_count": 39,
   "metadata": {},
   "outputs": [
    {
     "data": {
      "image/png": "[encoded data removed]",
      "text/plain": [
       "<Figure size 1080x360 with 4 Axes>"
      ]
     },
     "metadata": {
      "needs_background": "light"
     },
     "output_type": "display_data"
    }
   ],
   "source": [
    "#resize figure for better display\n",
    "plt.figure(figsize=(15, 5))\n",
    "\n",
    "#plot histogram for goals scored in all matches\n",
    "plt.subplot(1, 4, 1)\n",
    "plt.hist(x=total_goals, bins=((total_goals.max() - total_goals.min())), color='red', density=True)\n",
    "plt.xlabel('Goals Scored in Match')\n",
    "plt.ylabel('Probability of # of Goals Scored')\n",
    "plt.title('All Matches')\n",
    "plt.xlim([0, 10])\n",
    "plt.ylim([0, 0.25])\n",
    "\n",
    "#plot histogram for goals scored in friendlies\n",
    "plt.subplot(1, 4, 2)\n",
    "plt.hist(x=total_goals_friendly, bins=((total_goals_friendly.max() - total_goals_friendly.min())),\n",
    "         color='blue', density=True)\n",
    "plt.xlabel('Goals Scored in Match')\n",
    "plt.ylabel('Probability of # of Goals Scored')\n",
    "plt.title('Friendlies')\n",
    "plt.xlim([0, 10])\n",
    "plt.ylim([0, 0.25])\n",
    "\n",
    "#plot histogram for goals scored in FIFA World Cup Qualifying\n",
    "plt.subplot(1, 4, 3)\n",
    "plt.hist(x=total_goals_FIFA_WCQ, bins=((total_goals_FIFA_WCQ.max() - total_goals_FIFA_WCQ.min())),\n",
    "         color='green', density=True)\n",
    "plt.xlabel('Goals Scored in Match')\n",
    "plt.ylabel('Probability of # of Goals Scored')\n",
    "plt.title('World Cup Qualification')\n",
    "plt.xlim([0, 10])\n",
    "plt.ylim([0, 0.25])\n",
    "\n",
    "#plot histogram for goals scored in FIFA World Cup\n",
    "plt.subplot(1, 4, 4)\n",
    "plt.hist(x=total_goals_FIFA_WC, bins=((total_goals_FIFA_WC.max() - total_goals_FIFA_WC.min())),\n",
    "         color='yellow', density=True)\n",
    "plt.xlabel('Goals Scored in Match')\n",
    "plt.ylabel('Probability of # of Goals Scored')\n",
    "plt.title('World Cup')\n",
    "plt.xlim([0, 10])\n",
    "plt.ylim([0, 0.25])\n",
    "            \n",
    "#improve display\n",
    "plt.tight_layout()\n",
    "#show plot\n",
    "plt.show()"
   ]
  },
  {
   "cell_type": "markdown",
   "metadata": {},
   "source": [
    "Inspection of the histograms shows that they are similar, which is supported by the comparisons of the mean goals scored per match.  The difference in mean goals per match could be accounted for by the low-probability results with a high number of goals scored that exist to a greater extent for all matches, friendlies, and FIFA World Cup Qualifying than for FIFA World Cup matches.  Those high-scoring results are able to elevate the mean goals scored per match.  The histograms of all matches, friendlies, and FIFA World Cup Qualification are similar based on visual inspection.  The FIFA World Cup histogram is not very different from the first three but is more level across the 1, 2, and 3 goals scored bins than the other three."
   ]
  },
  {
   "cell_type": "code",
   "execution_count": 40,
   "metadata": {},
   "outputs": [
    {
     "data": {
      "image/png": "[encoded data removed]",
      "text/plain": [
       "<Figure size 1080x360 with 4 Axes>"
      ]
     },
     "metadata": {
      "needs_background": "light"
     },
     "output_type": "display_data"
    }
   ],
   "source": [
    "#get margin of victory of matches for each case\n",
    "margin_of_victory = df2['margin_of_victory']\n",
    "margin_of_victory_friendly = df2.loc[df2['tournament'] == 'Friendly']['margin_of_victory']\n",
    "margin_of_victory_FIFA_WCQ = df2.loc[df2['tournament'] == 'FIFA World Cup qualification']['margin_of_victory']\n",
    "margin_of_victory_FIFA_WC = df2.loc[df2['tournament'] == 'FIFA World Cup']['margin_of_victory']\n",
    "\n",
    "#resize figure for better display\n",
    "plt.figure(figsize=(15, 5))\n",
    "\n",
    "#plot histogram for margin of victory in all matches\n",
    "plt.subplot(1, 4, 1)\n",
    "plt.hist(x=margin_of_victory, bins=((margin_of_victory.max() - margin_of_victory.min())),\n",
    "         color='red', density=True)\n",
    "plt.xlabel('Margin of Victory in Game')\n",
    "plt.ylabel('Probability of Margin of Victory')\n",
    "plt.title('All Matches')\n",
    "plt.xlim([margin_of_victory.min(), margin_of_victory.max()])\n",
    "\n",
    "#plot histogram for margin of victory in friendlies\n",
    "plt.subplot(1, 4, 2)\n",
    "plt.hist(x=margin_of_victory_friendly, bins=((margin_of_victory_friendly.max() - margin_of_victory_friendly.min())),\n",
    "         color='blue', density=True)\n",
    "plt.xlabel('Margin of Victory in Game')\n",
    "plt.ylabel('Probability of Margin of Victory')\n",
    "plt.title('Friendlies')\n",
    "plt.xlim([margin_of_victory_friendly.min(), margin_of_victory_friendly.max()])\n",
    "\n",
    "#plot histogram for margin of victory in FIFA World Cup Qualifying\n",
    "plt.subplot(1, 4, 3)\n",
    "plt.hist(x=margin_of_victory_FIFA_WCQ, bins=((margin_of_victory_FIFA_WCQ.max() - margin_of_victory_FIFA_WCQ.min())),\n",
    "         color='green', density=True)\n",
    "plt.xlabel('Margin of Victory in Game')\n",
    "plt.ylabel('Probability of Margin of Victory')\n",
    "plt.title('World Cup Qualification')\n",
    "plt.xlim([margin_of_victory_FIFA_WCQ.min(), margin_of_victory_FIFA_WCQ.max()])\n",
    "\n",
    "#plot histogram for margin of victory in FIFA World Cup\n",
    "plt.subplot(1, 4, 4)\n",
    "plt.hist(x=margin_of_victory_FIFA_WC, bins=((margin_of_victory_FIFA_WC.max() - margin_of_victory_FIFA_WC.min())),\n",
    "         color='yellow', density=True)\n",
    "plt.xlabel('Margin of Victory in Game')\n",
    "plt.ylabel('Probability of Margin of Victory')\n",
    "plt.title('World Cup')\n",
    "plt.xlim([margin_of_victory_FIFA_WC.min(), margin_of_victory_FIFA_WC.max()])\n",
    "            \n",
    "#improve display\n",
    "plt.tight_layout()\n",
    "#show plot\n",
    "plt.show()"
   ]
  },
  {
   "cell_type": "markdown",
   "metadata": {},
   "source": [
    "The histograms show that the margin of victory follows a Gaussian-type or binomial-type distribution similarly to the goals scored per game.  Each of the cases is observed to have insignificant (<1%) occurrences of margin of victory beyond 10.  In order to homogenize the visualizations across competitions, the limits of the x-axes are changed to be 0 and 10, and the limits of the y-axes are changed to be 0 and 0.40."
   ]
  },
  {
   "cell_type": "code",
   "execution_count": 41,
   "metadata": {},
   "outputs": [
    {
     "data": {
      "image/png": "[encoded data removed]",
      "text/plain": [
       "<Figure size 1080x360 with 4 Axes>"
      ]
     },
     "metadata": {
      "needs_background": "light"
     },
     "output_type": "display_data"
    }
   ],
   "source": [
    "#resize figure for better display\n",
    "plt.figure(figsize=(15, 5))\n",
    "\n",
    "#plot histogram for margin of victory in all matches\n",
    "plt.subplot(1, 4, 1)\n",
    "plt.hist(x=margin_of_victory, bins=((margin_of_victory.max() - margin_of_victory.min())),\n",
    "         color='red', density=True)\n",
    "plt.xlabel('Margin of Victory in Game')\n",
    "plt.ylabel('Probability of Margin of Victory')\n",
    "plt.title('All Matches')\n",
    "plt.xlim([0, 10])\n",
    "plt.ylim([0, 0.40])\n",
    "\n",
    "#plot histogram for margin of victory in friendlies\n",
    "plt.subplot(1, 4, 2)\n",
    "plt.hist(x=margin_of_victory_friendly, bins=((margin_of_victory_friendly.max() - margin_of_victory_friendly.min())),\n",
    "         color='blue', density=True)\n",
    "plt.xlabel('Margin of Victory in Game')\n",
    "plt.ylabel('Probability of Margin of Victory')\n",
    "plt.title('Friendlies')\n",
    "plt.xlim([0, 10])\n",
    "plt.ylim([0, 0.40])\n",
    "\n",
    "#plot histogram for margin of victory in FIFA World Cup Qualifying\n",
    "plt.subplot(1, 4, 3)\n",
    "plt.hist(x=margin_of_victory_FIFA_WCQ, bins=((margin_of_victory_FIFA_WCQ.max() - margin_of_victory_FIFA_WCQ.min())),\n",
    "         color='green', density=True)\n",
    "plt.xlabel('Margin of Victory in Game')\n",
    "plt.ylabel('Probability of Margin of Victory')\n",
    "plt.title('World Cup Qualification')\n",
    "plt.xlim([0, 10])\n",
    "plt.ylim([0, 0.40])\n",
    "\n",
    "#plot histogram for margin of victory in FIFA World Cup\n",
    "plt.subplot(1, 4, 4)\n",
    "plt.hist(x=margin_of_victory_FIFA_WC, bins=((margin_of_victory_FIFA_WC.max() - margin_of_victory_FIFA_WC.min())),\n",
    "         color='yellow', density=True)\n",
    "plt.xlabel('Margin of Victory in Game')\n",
    "plt.ylabel('Probability of Margin of Victory')\n",
    "plt.title('World Cup')\n",
    "plt.xlim([0, 10])\n",
    "plt.ylim([0, 0.40])\n",
    "            \n",
    "#improve display\n",
    "plt.tight_layout()\n",
    "#show plot\n",
    "plt.show()"
   ]
  },
  {
   "cell_type": "markdown",
   "metadata": {},
   "source": [
    "The histograms of the margin of victory for the four cases share a similar shape.  However, there are differences that can be observed.  One such difference is is greater probability of a draw occurring in a friendly match than in the other cases.  This aligns with expectation because there are no stakes for a friendly and because all friendlies can end in a draw.  Some matches in the other three cases cannot end in a draw.  Similar reasoning could explain why the FIFA World Cup has has a greater probability of a match with a 1 goal margin of victory.  Knockout matches in the FIFA World Cup must have a winner, and time and subsequently penalty kicks are added until there is a winner.  Friendlies and FIFA World Cup Qualification do not have this feature, and FIFA World Cup matches represent a small segment of the all matches population.  In order to determine whether there is a significant difference between the distribution of margin of victory for World Cup matches and friendly matches or for World Cup matches and World Cup Qualification matches, the Mann-Whitney U test is employed because the distributions are not normal."
   ]
  },
  {
   "cell_type": "code",
   "execution_count": 48,
   "metadata": {},
   "outputs": [
    {
     "name": "stdout",
     "output_type": "stream",
     "text": [
      "The p-value for comparison of the distribution of the margin of victory in friendly matches and World Cup matches is 0.42.\n",
      "The p-value for comparison of the distribution of the margin of victory in World Cup Qualifying matches and World Cup matches is 1.26\n"
     ]
    }
   ],
   "source": [
    "from scipy.stats import mannwhitneyu\n",
    "\n",
    "MWU_margin_friendly_WC = mannwhitneyu(margin_of_victory_friendly, margin_of_victory_FIFA_WC)\n",
    "MWU_margin_WCQ_WC = mannwhitneyu(margin_of_victory_FIFA_WCQ, margin_of_victory_FIFA_WC)\n",
    "print('The p-value for comparison of the distribution of the margin of victory in friendly matches ' + \n",
    "      'and World Cup matches is ' + str(MWU_margin_friendly_WC[1])[:4] + '.')\n",
    "print('The p-value for comparison of the distribution of the margin of victory in World Cup Qualifying matches ' + \n",
    "      'and World Cup matches is ' + str(MWU_margin_WCQ_WC[1])[:4])"
   ]
  },
  {
   "cell_type": "markdown",
   "metadata": {},
   "source": [
    "From the p-values obtained from the Mann-Whitney U test, it is observed that a difference cannot be confirmed between the distributions of margin of victory for friendly matches and World Cup matches, but a difference in the distributions of margin of victory for World Cup Qualifying matches and World Cup matches can be confirmed."
   ]
  },
  {
   "cell_type": "markdown",
   "metadata": {},
   "source": [
    "## Question 3\n",
    "\n",
    "In order to determine which teams are the most successful teams, their records need to be calculated based on the results of their matches.  This is done for all matches as well as for the FIFA World Cup.  As the FIFA World Cup is the most prestigious tournament in world soccer and is open to every team in world soccer, it is included because it is logical that the most successful teams would be successful in this tournament."
   ]
  },
  {
   "cell_type": "code",
   "execution_count": null,
   "metadata": {},
   "outputs": [],
   "source": [
    "#generate list of teams that have played an international soccer match\n",
    "teams = pd.DataFrame(np.append(df.home_team.values, df.away_team.values))[0].unique()\n",
    "\n",
    "#initialize array for the year in which a team first played international match (for Question 4, efficient to do here)\n",
    "#initialize arrays for wins, losses, draws, percentages thereof, and games in all matches for each team\n",
    "year_first_played = np.zeros(teams.shape[0])\n",
    "wins = year_first_played.copy()\n",
    "losses = year_first_played.copy()\n",
    "draws = year_first_played.copy()\n",
    "games = year_first_played.copy()\n",
    "wins_pct = year_first_played.copy()\n",
    "losses_pct = year_first_played.copy()\n",
    "draws_pct = year_first_played.copy()\n",
    "\n",
    "#initialize arrays for wins, losses, draws, percentages thereof, and games in FIFA World Cup matches for each team\n",
    "wins_WC = year_first_played.copy()\n",
    "losses_WC = year_first_played.copy()\n",
    "draws_WC = year_first_played.copy()\n",
    "games_WC = year_first_played.copy()\n",
    "wins_WC_pct = year_first_played.copy()\n",
    "losses_WC_pct = year_first_played.copy()\n",
    "draws_WC_pct = year_first_played.copy()\n",
    "\n",
    "#loop through teams for efficient application of filters\n",
    "for index, team in enumerate(teams):\n",
    "    #generate dataframe for matches in which the team participated\n",
    "    matches_with_team = df2.loc[(df2['home_team'] == team) | (df2['away_team'] == team)]\n",
    "    \n",
    "    #determine year in which team first competed in international match, supports Question 4\n",
    "    year_first_played[index] = matches_with_team.sort_values(by=['year_of_match'])['year_of_match'].values[0]\n",
    "    \n",
    "    #determine number of wins, losses, draws, and games in all matches for team\n",
    "    wins[index] = matches_with_team.loc[matches_with_team['winner'] == team].shape[0]\n",
    "    losses[index] = matches_with_team.loc[matches_with_team['loser'] == team].shape[0]\n",
    "    draws[index] = matches_with_team.loc[matches_with_team['winner'] == 'None'].shape[0]\n",
    "    games[index] = matches_with_team.shape[0]\n",
    "    \n",
    "    #calculate win, loss, and draw percentage, done this way instead of through matrix to prevent dividing by 0 in WC case\n",
    "    if (games[index] == 0):\n",
    "        wins_pct[index] = 0\n",
    "        losses_pct[index] = 0\n",
    "        draws_pct[index] = 0\n",
    "    else:\n",
    "        wins_pct[index] = wins[index]/games[index]*100\n",
    "        losses_pct[index] = losses[index]/games[index]*100\n",
    "        draws_pct[index] = draws[index]/games[index]*100\n",
    "    \n",
    "    #determine number of wins, losses, draws, and games in WC for team\n",
    "    matches_with_team_WC = matches_with_team.loc[matches_with_team['tournament'] == 'FIFA World Cup']\n",
    "    wins_WC[index] = matches_with_team_WC.loc[matches_with_team['winner'] == team].shape[0]\n",
    "    losses_WC[index] = matches_with_team_WC.loc[matches_with_team['loser'] == team].shape[0]\n",
    "    draws_WC[index] = matches_with_team_WC.loc[matches_with_team['winner'] == 'None'].shape[0]\n",
    "    games_WC[index] = matches_with_team_WC.shape[0]\n",
    "    \n",
    "    #calculate win, loss, and draw percentage in WC, done this way instead of through matrix to prevent dividing by 0\n",
    "    if (games_WC[index] == 0):\n",
    "        wins_WC_pct[index] = 0\n",
    "        losses_WC_pct[index] = 0\n",
    "        draws_WC_pct[index] = 0\n",
    "    else:\n",
    "        wins_WC_pct[index] = wins_WC[index]/games_WC[index]*100\n",
    "        losses_WC_pct[index] = losses_WC[index]/games_WC[index]*100\n",
    "        draws_WC_pct[index] = draws_WC[index]/games_WC[index]*100\n",
    "\n",
    "#create dataframe that summarizes each team's results\n",
    "df_team_summary = pd.DataFrame({'team': teams, 'year_first_played': year_first_played, 'wins': wins, 'losses': losses, 'draws': \n",
    "                          draws, 'games': games, 'wins_pct': wins_pct, 'losses_pct': losses_pct, 'draws_pct': draws_pct, 'wins_WC': wins_WC, 'losses_WC':\n",
    "                           losses_WC, 'draws_WC': draws_WC, 'games_WC': games_WC, 'wins_WC_pct': wins_WC_pct, 'losses_WC_pct':\n",
    "                           losses_WC_pct, 'draws_WC_pct': draws_WC_pct})"
   ]
  },
  {
   "cell_type": "markdown",
   "metadata": {},
   "source": [
    "The top 10 teams by winning percentage are displayed so that the list can be inspected."
   ]
  },
  {
   "cell_type": "code",
   "execution_count": null,
   "metadata": {},
   "outputs": [],
   "source": [
    "df_team_summary.sort_values(by=['wins_pct'], ascending=False).head(10)"
   ]
  },
  {
   "cell_type": "markdown",
   "metadata": {},
   "source": [
    "Inspection of the top 10 teams by winning percentage shows that teams with relatively few games played have the highest winning percentages.  None of these teams are teams that are associated with success in world soccer.  Therefore, winning percentage alone is not a good indicator of team success on an international scale.  Next the top 10 teams by wins are displayed."
   ]
  },
  {
   "cell_type": "code",
   "execution_count": null,
   "metadata": {},
   "outputs": [],
   "source": [
    "df_team_summary.sort_values(by=['wins'], ascending=False).head(10)"
   ]
  },
  {
   "cell_type": "markdown",
   "metadata": {},
   "source": [
    "None of the teams presented in the top 10 by winning percentage are present in the top 10 by number of wins.  However, using wins alone does not indicate a team's success because it favors teams that have played more matches.  A team with a lower winning percentage could have more wins that a team with a greater winning percentage that has played fewer matches.  Within the top 10 by wins, England is ahead of Germany even though Germany has a greater winning percentage because England has played 52 more matches than Germany.  Similarly, Sweden is ranked 5th by wins even though four of the five teams below it in the top 10 by wins have better winning percentages.  In order to filter out the winning percentages of teams with relatively few matches played, the top 10 teams by winning percentage with more than 100 matches played are presented."
   ]
  },
  {
   "cell_type": "code",
   "execution_count": null,
   "metadata": {},
   "outputs": [],
   "source": [
    "df_team_summary.loc[df_team_summary['games'] > 100].sort_values(by=['wins_pct'], ascending=False).head(10)"
   ]
  },
  {
   "cell_type": "markdown",
   "metadata": {},
   "source": [
    "The resulting list presents teams associated with success in international socces (Brazil, Spain, Germany) even though teams like Iran and New Caledonia still make this top 10.  A possible cause of their high winning percentages could be that the both teams play in confederations that are traditionally not very strong in comparison to the other confederations.  Wins and winning percentage at the World Cup provide a good measure of a team's success because it had to do well in qualifying to even be in the World Cup and because the competition at the World Cup is elite.  The top 10 teams by World Cup wins and World Cup winning percentage are displayed."
   ]
  },
  {
   "cell_type": "code",
   "execution_count": null,
   "metadata": {},
   "outputs": [],
   "source": [
    "df_team_summary.sort_values(by=['wins_WC'], ascending=False).head(10)"
   ]
  },
  {
   "cell_type": "code",
   "execution_count": null,
   "metadata": {},
   "outputs": [],
   "source": [
    "df_team_summary.sort_values(by=['wins_WC_pct'], ascending=False).head(10)"
   ]
  },
  {
   "cell_type": "markdown",
   "metadata": {},
   "source": [
    "Brazil has clearly positioned itself as the most successful team in international soccer by virtue of having the most wins, highest winning percentage in all matches among teams playing more than 100 matches, most World Cup wins, and highest World Cup winning percentage.  Germany has positioned itself as a strong contender to Brazil by having the third-most wins overall, third-highest winning percentage among teams playing more than 100 matches, the second-most World Cup wins, and the second-best World Cup winning percentage.  Spain narrowly eclipses Germany in winning percentage among teams playing more than 100 matches but falls short of Germany's success in the World Cup.  Spain only has the sixth-most World Cup wins and ninth-best World Cup winning percentage."
   ]
  },
  {
   "cell_type": "markdown",
   "metadata": {},
   "source": [
    "## Question 4\n",
    "\n",
    "The DataFrame created in the process of answering Question 3 (df_team_summary) answers the question of how many teams have competed in an international soccer match throughout history by virtue of its shape.  There is a row in df_team_summary for each team.  The number of teams that have competed in an international soccer match throughout history is determined below."
   ]
  },
  {
   "cell_type": "code",
   "execution_count": null,
   "metadata": {},
   "outputs": [],
   "source": [
    "print('The number of teams that have played in an international soccer match is ' + str(df_team_summary.shape[0]) + '.')"
   ]
  },
  {
   "cell_type": "markdown",
   "metadata": {},
   "source": [
    "Next, the number of teams that had played an international soccer match by the end of given year and the number of teams that played an international soccer match in a given year are determined."
   ]
  },
  {
   "cell_type": "code",
   "execution_count": null,
   "metadata": {},
   "outputs": [],
   "source": [
    "#initialize teams_over_years to have the number of rows corresponding to years from first match to last match\n",
    "teams_over_years = np.zeros((int(df_team_summary['year_first_played'].max())\n",
    "                             - int(df_team_summary['year_first_played'].min()) + 1, 4))\n",
    "\n",
    "#initialize mean_goals_over_years to have same shape as teams_over_years, efficient to do here, used for Question 5\n",
    "mean_goals_over_years = np.zeros(teams_over_years.shape[0])\n",
    "\n",
    "#loop through years to determine cumulative teams and teams in year\n",
    "for index, year in enumerate(range(int(df_team_summary['year_first_played'].min()), \n",
    "                                   int(df_team_summary['year_first_played'].max()) + 1)):\n",
    "    #store year in first column of array\n",
    "    teams_over_years[index, 0] = year\n",
    "    #store count of teams who first played in year in second column of array\n",
    "    teams_over_years[index, 1] = df_team_summary.loc[df_team_summary['year_first_played'] == year].shape[0]\n",
    "    #store cumulative number of teams who had played an international match by year in third column of array\n",
    "    if (index == 0):\n",
    "        teams_over_years[index, 2] = teams_over_years[index, 1]\n",
    "    else:\n",
    "        teams_over_years[index, 2] = teams_over_years[index - 1, 2] + teams_over_years[index, 1]\n",
    "    \n",
    "    #generate dataframe for matches in year\n",
    "    matches_in_year = df2.loc[df2['year_of_match'] == year]\n",
    "        \n",
    "    #determine number of teams that played match in year\n",
    "    teams_over_years[index, 3] = matches_in_year['home_team'].append(matches_in_year['away_team']).unique().shape[0]\n",
    "        \n",
    "    #calculate mean number of goals in matches in year, used for Question 5\n",
    "    mean_goals_over_years[index] = df2.loc[df2['year_of_match'] == year]['total_goals'].describe()['mean']"
   ]
  },
  {
   "cell_type": "markdown",
   "metadata": {},
   "source": [
    "Scatter plots of the number of teams that had played an international match by a given year and the number of teams playing an international match in each year are generated."
   ]
  },
  {
   "cell_type": "code",
   "execution_count": null,
   "metadata": {},
   "outputs": [],
   "source": [
    "plt.figure(figsize=(15, 5))\n",
    "\n",
    "plt.subplot(1, 2, 1)\n",
    "plt.scatter(teams_over_years[:,0], teams_over_years[:,2])\n",
    "plt.xlabel('Year')\n",
    "plt.ylabel('Teams That Have Played International Match')\n",
    "\n",
    "plt.subplot(1, 2, 2)\n",
    "plt.scatter(teams_over_years[:,0], teams_over_years[:,3])\n",
    "plt.xlabel('Year')\n",
    "plt.ylabel('Teams That Played International Match in Year')\n",
    "\n",
    "plt.show()"
   ]
  },
  {
   "cell_type": "markdown",
   "metadata": {},
   "source": [
    "The two plots generally share a similar shape and track closely with each other.  An interesting observation from these plots is the significant increase in the plotted value after the ends of World War I and World War II.  This stands to reason because those events were very disruptive, but it is interesting to see how soccer is connected to the events of history."
   ]
  },
  {
   "cell_type": "markdown",
   "metadata": {},
   "source": [
    "## Question 5\n",
    "\n",
    "The mean number of goals scored in a match for each year is plotted below."
   ]
  },
  {
   "cell_type": "code",
   "execution_count": null,
   "metadata": {},
   "outputs": [],
   "source": [
    "plt.scatter(teams_over_years[:,0], mean_goals_over_years)\n",
    "plt.xlabel('Year')\n",
    "plt.ylabel('Mean Goals Scored in Match')\n",
    "\n",
    "plt.tight_layout()\n",
    "plt.show()"
   ]
  },
  {
   "cell_type": "markdown",
   "metadata": {},
   "source": [
    "It is clear from the plot above that the number of goals scored per match has trended down through history.  An interesting course of research stemming from this result could be looking into factors why this has occurred.  It is not immediately apparent from the dataset why this trend is present."
   ]
  },
  {
   "cell_type": "markdown",
   "metadata": {},
   "source": [
    "## Further Research\n",
    "\n",
    "A topic that would be interesting to explore with this dataset would be determining whether a team's success is related to the number of times that it has hosted a tournament that does not have a set location (e.g., FIFA World Cup, UEFA Euros).  From the dataset on hand, success in the years leading up to a tournament would be evaluated.  In order to accurately assess the impact of team success on successfully winning bids to host tournaments, other information would need to be collected that is not within this dataset that is related to other important factors.  Examples of such information include historical attendance figures at matches, amount of suitable stadiums, and a record of bids made.  It is acknowledged that success of the national team may impact the three previously listed examples, but certain variations in those qualities among countries may provide insight into why a particular country was chosen to host a tournament.  Techniques required to perform this analysis include those previously covered by this course and a lot of literature review.  A possible very useful technique that has not been covered by this course yet is automating the collection of data to boost the dataset at hand.  Finding the information could be done manually, but this would take a long time in comparison to a targeted query that is able to aggregate useful information from sources."
   ]
  }
 ],
 "metadata": {
  "kernelspec": {
   "display_name": "Python 3",
   "language": "python",
   "name": "python3"
  },
  "language_info": {
   "codemirror_mode": {
    "name": "ipython",
    "version": 3
   },
   "file_extension": ".py",
   "mimetype": "text/x-python",
   "name": "python",
   "nbconvert_exporter": "python",
   "pygments_lexer": "ipython3",
   "version": "3.7.3"
  }
 },
 "nbformat": 4,
 "nbformat_minor": 2
}
